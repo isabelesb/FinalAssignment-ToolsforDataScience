{
 "cells": [
  {
   "cell_type": "markdown",
   "id": "9241530e",
   "metadata": {},
   "source": [
    "# Data Science Tool and Ecosystem"
   ]
  },
  {
   "cell_type": "markdown",
   "id": "003b6d7c",
   "metadata": {},
   "source": [
    "In this notebook, Data Science Tools and Ecosystem are summarized."
   ]
  },
  {
   "cell_type": "markdown",
   "id": "82299d29",
   "metadata": {},
   "source": [
    "**Objectives:** \n",
    "* Languages; \n",
    "* Libraries; \n",
    "* Open Source Tools; \n",
    "* Arithmetic Expressions. "
   ]
  },
  {
   "cell_type": "markdown",
   "id": "96609045",
   "metadata": {},
   "source": [
    "Some of the popular languages that Data Scientists use are: \n",
    "1. Python; \n",
    "2. R; \n",
    "3. SQL; \n",
    "4. Julia; \n",
    "5. C++.\n",
    "And others."
   ]
  },
  {
   "cell_type": "markdown",
   "id": "af8ccad2",
   "metadata": {},
   "source": [
    "Some of the commonly used libraries used by Data Scientists includes: \n",
    "1. Sciki-learn;\n",
    "2. Tensor Flow;\n",
    "3. Apache Spark.\n"
   ]
  },
  {
   "cell_type": "markdown",
   "id": "9dffd960",
   "metadata": {},
   "source": [
    " | Data Science Tools |\n",
    " | :-: |\n",
    " | Jupyter Notebook |\n",
    " | RStudio |\n",
    " | GitHub |"
   ]
  },
  {
   "cell_type": "markdown",
   "id": "1accaea6",
   "metadata": {},
   "source": [
    "### Bellow are a few examples of evaluating arithmetic expressions in Python."
   ]
  },
  {
   "cell_type": "code",
   "execution_count": 4,
   "id": "bbff015e",
   "metadata": {},
   "outputs": [
    {
     "data": {
      "text/plain": [
       "17"
      ]
     },
     "execution_count": 4,
     "metadata": {},
     "output_type": "execute_result"
    }
   ],
   "source": [
    "(3*4)+5\n",
    "# This a simple arithmetic expression to multiply then add integers"
   ]
  },
  {
   "cell_type": "code",
   "execution_count": 3,
   "id": "d429ebb0",
   "metadata": {},
   "outputs": [
    {
     "data": {
      "text/plain": [
       "3.3333333333333335"
      ]
     },
     "execution_count": 3,
     "metadata": {},
     "output_type": "execute_result"
    }
   ],
   "source": [
    "200/60\n",
    "# This wil convert 200 minutes to hours by diving by 60"
   ]
  },
  {
   "cell_type": "markdown",
   "id": "3f3ac9d8",
   "metadata": {},
   "source": [
    "## Author\n",
    "Isabele Salvador Barbosa"
   ]
  }
 ],
 "metadata": {
  "kernelspec": {
   "display_name": "Python 3 (ipykernel)",
   "language": "python",
   "name": "python3"
  },
  "language_info": {
   "codemirror_mode": {
    "name": "ipython",
    "version": 3
   },
   "file_extension": ".py",
   "mimetype": "text/x-python",
   "name": "python",
   "nbconvert_exporter": "python",
   "pygments_lexer": "ipython3",
   "version": "3.11.4"
  }
 },
 "nbformat": 4,
 "nbformat_minor": 5
}
